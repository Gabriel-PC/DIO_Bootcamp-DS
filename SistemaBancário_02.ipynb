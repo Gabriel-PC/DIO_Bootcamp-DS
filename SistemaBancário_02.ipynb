{
  "nbformat": 4,
  "nbformat_minor": 0,
  "metadata": {
    "colab": {
      "provenance": [],
      "authorship_tag": "ABX9TyNvZqeCa36BUrRdnIgF+O0i",
      "include_colab_link": true
    },
    "kernelspec": {
      "name": "python3",
      "display_name": "Python 3"
    },
    "language_info": {
      "name": "python"
    }
  },
  "cells": [
    {
      "cell_type": "markdown",
      "metadata": {
        "id": "view-in-github",
        "colab_type": "text"
      },
      "source": [
        "<a href=\"https://colab.research.google.com/github/Gabriel-PC/DIO_Bootcamp-DS/blob/main/SistemaBanc%C3%A1rio_02.ipynb\" target=\"_parent\"><img src=\"https://colab.research.google.com/assets/colab-badge.svg\" alt=\"Open In Colab\"/></a>"
      ]
    },
    {
      "cell_type": "markdown",
      "source": [
        "# 2o Desafio DIO\n",
        "## Funções para operações básicas e cadastro para clientes e contas, para um sistema bancário."
      ],
      "metadata": {
        "id": "KrNHvnr-H4BN"
      }
    },
    {
      "cell_type": "markdown",
      "source": [
        "Mudando de cores nas strings\n",
        "\n",
        "fonte: https://stackoverflow.com/questions/287871/how-do-i-print-colored-text-to-the-terminal\n",
        "\n",
        "fonte das cores e funções: https://en.wikipedia.org/wiki/ANSI_escape_code#3-bit_and_4-bit https://en.wikipedia.org/wiki/ANSI_escape_code#CSIsection"
      ],
      "metadata": {
        "id": "fiK9J1IMx2mN"
      }
    },
    {
      "cell_type": "code",
      "source": [
        "class bcolors: #cores dos menus\n",
        "    HEADER = '\\033[95m'\n",
        "    OKBLUE = '\\033[94m'\n",
        "    OKCYAN = '\\033[96m'\n",
        "    OKGREEN = '\\033[92m'\n",
        "    OKMAGENTA = '\\033[95m'\n",
        "    WARNING = '\\033[93m'\n",
        "    FAIL = '\\033[91m'\n",
        "    ENDC = '\\033[0m'\n",
        "    BOLD = '\\033[1m'\n",
        "    UNDERLINE = '\\033[4m'\n",
        "import requests #função do CEP"
      ],
      "metadata": {
        "id": "QbFD-4NyfEkx"
      },
      "execution_count": 183,
      "outputs": []
    },
    {
      "cell_type": "markdown",
      "source": [
        "visualização da maiorias das variáveis"
      ],
      "metadata": {
        "id": "7s3ycz_srBxd"
      }
    },
    {
      "cell_type": "code",
      "source": [
        "temp = \"\"\n",
        "temp_cpf=\"\"\n",
        "temp_nome=\"\"\n",
        "temp_data=\"\"\n",
        "temp_cep=\"\"\n",
        "temp_numero=\"\"\n",
        "temp_complemento=\"\"\n",
        "temp_endereco=\"\"\n",
        "users_dict={}\n",
        "deleted_users_dict={}\n",
        "deleted_contas_dict={}\n",
        "dict_contas={}\n",
        "logradouro=\"\"\n",
        "bairro=\"\"\n",
        "cidade=\"\"\n",
        "uf=\"\"\n",
        "CPF=\"\"\n",
        "tipo_de_conta=\"\"\n",
        "temp_contas=\"\" #lista\n",
        "temp_conta.clear()\n",
        "temp_conta2=\"\" #abrir/fechar"
      ],
      "metadata": {
        "id": "k5Y_iIUV-nOB"
      },
      "execution_count": 184,
      "outputs": []
    },
    {
      "cell_type": "markdown",
      "source": [
        "Classe Pai, \"não utilizada\""
      ],
      "metadata": {
        "id": "Fw-FzMybEhUE"
      }
    },
    {
      "cell_type": "code",
      "source": [
        "class Conta:\n",
        "    numero_conta_atual = 1  # Variável de classe para rastrear o número de conta\n",
        "    def __init__(self, CPF):\n",
        "        self.CPF = CPF\n",
        "        self.saldo = 0 # Valor predefinido de abertura de conta\n",
        "        self.ag_conta = \"0001\" # Valor predefinido da agência\n",
        "        self.numero_conta = Conta.numero_conta_atual  # Atribui o número de conta atual\n",
        "        Conta.numero_conta_atual += 1  # Incrementa o número de conta para a próxima instância\n",
        "        self.contador_saques = 0  # Atributo para contar saques"
      ],
      "metadata": {
        "id": "V_seey37_FEg"
      },
      "execution_count": 185,
      "outputs": []
    },
    {
      "cell_type": "markdown",
      "source": [
        "Diferenciação de Contas/Clientes - Conta filho 01"
      ],
      "metadata": {
        "id": "LhlmaIR3GoMz"
      }
    },
    {
      "cell_type": "code",
      "source": [
        "class ContaPadrao(Conta):\n",
        "    def __init__(self, CPF):\n",
        "        super().__init__(CPF)\n",
        "        self.agencia = \"0001\"\n",
        "        self.limite = 500  # Valor predefinido do limite\n",
        "        self.limite_saques = 3  # Valor predefinido do limite de saques\n",
        "        #self.num_saques = 0 # Valor inicial\n",
        "        self.extrato_movimentacao = \"\"\n",
        "\n",
        "    def depositar(self, valor, /):\n",
        "        if valor > 0:\n",
        "            self.saldo += valor\n",
        "            self.extrato_movimentacao += f\"Depósito:   R$ {valor:.2f}\\n\"\n",
        "\n",
        "    def sacar(self, *, valor):\n",
        "\n",
        "        if (self.contador_saques < self.limite_saques) and valor <= self.limite:\n",
        "            self.saldo -= valor\n",
        "            self.contador_saques += 1\n",
        "            self.extrato_movimentacao += f\"Saque:      R$ {valor:.2f}\\n\"\n",
        "        else:\n",
        "            print(\"Operação de saque não permitida.\")\n",
        "\n",
        "    def imprimir_extrato(self, saldo, /, *, extrato_movimentacao):\n",
        "            print(f\"{self.CPF} - {self.numero_conta}\\nExtrato de movimentação da conta\")\n",
        "            print(self.extrato_movimentacao)\n",
        "            print(self.saldo)\n",
        "\n",
        "    def deletar_conta(self, lista_contas):\n",
        "        # Encontra a posição da conta na lista de contas com base no CPF\n",
        "        posicao_conta = None\n",
        "        for i, conta in enumerate(dict_contas):\n",
        "            if isinstance(conta, ContaPadrao) and conta.CPF == self.CPF:\n",
        "                posicao_conta = i\n",
        "                break\n",
        "\n",
        "        if posicao_conta is not None:\n",
        "            # Remove a conta da lista de contas\n",
        "            deleted_conta = dict_contas.pop(posicao_conta)\n",
        "            print(f\"Conta da classe ContaOuro associada ao CPF {self.CPF} foi deletada.\")\n",
        "            deleted_contas_dict.append(deleted_conta)  # Adiciona o usuário excluído à lista de excluídos\n",
        "        else:\n",
        "            print(f\"Conta da classe ContaOuro associada ao CPF {self.CPF} não encontrada.\")"
      ],
      "metadata": {
        "id": "KkLqBko2uukD"
      },
      "execution_count": 186,
      "outputs": []
    },
    {
      "cell_type": "markdown",
      "source": [
        "Diferenciação de Contas/Clientes - Conta filho 02"
      ],
      "metadata": {
        "id": "u2mMNG_KrSG6"
      }
    },
    {
      "cell_type": "code",
      "source": [
        "class ContaOuro(Conta):\n",
        "    def __init__(self, CPF):\n",
        "        super().__init__(CPF)\n",
        "        self.agencia = \"0001\"\n",
        "        self.limite = 850  # Valor predefinido do limite\n",
        "        self.limite_saques = 5  # Valor predefinido do limite de saques\n",
        "        #self.num_saques = 0 # Valor inicial\n",
        "        self.extrato_movimentacao = \"\"\n",
        "\n",
        "    def depositar(self, valor, /):\n",
        "        if valor > 0:\n",
        "            self.saldo += valor\n",
        "            self.extrato_movimentacao += f\"Depósito:   R$ {valor:.2f}\\n\"\n",
        "\n",
        "# Atualiza o !!dicionário!! com os novos valores de saldo e extrato # Trocando por att a instancia inteira ao invés dos atributos\n",
        "#        dict_contas[self.numero_conta][\"saldo\"] = self.saldo\n",
        "#        dict_contas[self.numero_conta][\"extrato_movimentacao\"] = self.extrato_movimentacao\n",
        "\n",
        "    def sacar(self, *, valor):\n",
        "#        print(\"Executando função sacar\")\n",
        "#        print(\"contador_saques:\", self.contador_saques)\n",
        "#        print(\"limite de valor:\", self.limite)\n",
        "#        print(\"limite_saques:\", self.limite_saques)\n",
        "\n",
        "        if (self.contador_saques < self.limite_saques) and valor <= self.limite:\n",
        "            self.saldo -= valor\n",
        "            self.contador_saques += 1\n",
        "            self.extrato_movimentacao += f\"Saque:      R$ {valor:.2f}\\n\"\n",
        "        else:\n",
        "            print(\"Operação de saque não permitida.\")\n",
        "\n",
        "    def imprimir_extrato(self, saldo, /, *, extrato_movimentacao):\n",
        "            print(f\"{self.CPF} - {self.numero_conta}\\nExtrato de movimentação da conta\")\n",
        "            print(self.extrato_movimentacao)\n",
        "            print(self.saldo)\n",
        "\n",
        "    def deletar_conta(self, dict_contas):\n",
        "        # Encontra a posição da conta na lista de contas com base no CPF\n",
        "        posicao_conta = None\n",
        "        for i, conta in enumerate(dict_contas):\n",
        "            if isinstance(conta, ContaOuro) and conta.CPF == self.CPF:\n",
        "                posicao_conta = i\n",
        "                break\n",
        "\n",
        "        if posicao_conta is not None:\n",
        "            # Remove a conta da lista de contas\n",
        "            deleted_conta = dict_contas.pop(posicao_conta)\n",
        "            print(f\"Conta da classe ContaOuro associada ao CPF {self.CPF} foi deletada.\")\n",
        "            deleted_contas_dict.append(deleted_conta)  # Adiciona o usuário excluído à lista de excluídos\n",
        "        else:\n",
        "            print(f\"Conta da classe ContaOuro associada ao CPF {self.CPF} não encontrada.\")"
      ],
      "metadata": {
        "id": "BfylHruiALt2"
      },
      "execution_count": 205,
      "outputs": []
    },
    {
      "cell_type": "code",
      "source": [],
      "metadata": {
        "id": "kUViSImU-0rm"
      },
      "execution_count": 187,
      "outputs": []
    },
    {
      "cell_type": "code",
      "execution_count": 188,
      "metadata": {
        "id": "T1yQjFWT-ReQ"
      },
      "outputs": [],
      "source": [
        "Operacoes = \"\"\"\n",
        "[D] Depositar\n",
        "[S] Sacar\n",
        "[E] Extrato\n",
        "[q] Voltar\n",
        "\n",
        "SB02:\\Cliente-Conta\\Operações\\ \"\"\"\n"
      ]
    },
    {
      "cell_type": "markdown",
      "source": [
        "## Parte dos Clientes"
      ],
      "metadata": {
        "id": "ewm7y83Ea26N"
      }
    },
    {
      "cell_type": "code",
      "source": [
        "def criar_usuario(temp_cpf, temp_nome, temp_data, temp_cep, endereco, temp_complemento):\n",
        "    global users_dict\n",
        "\n",
        "    if temp_cpf not in users_dict:\n",
        "        users_dict[temp_cpf] = {\n",
        "            \"CPF\": temp_cpf,\n",
        "            \"nome\": temp_nome,\n",
        "            \"data_nascimento\": temp_data,\n",
        "            \"CEP\": temp_cep,\n",
        "            \"endereco\": endereco,\n",
        "            \"complemento\": temp_complemento\n",
        "        }\n",
        "    else:\n",
        "        print(\"CPF já existe. Não é possível criar o usuário.\")\n"
      ],
      "metadata": {
        "id": "zTaS0Vfjwpsi"
      },
      "execution_count": 189,
      "outputs": []
    },
    {
      "cell_type": "code",
      "source": [
        "def cep_locate(temp_cep):\n",
        "#cep = cep.replace(\"-\", \"\").replace(\".\", \"\").replace(\" \", \"\")\n",
        "    if len(temp_cep) == 8:\n",
        "          link = f'https://viacep.com.br/ws/{temp_cep}/json/'\n",
        "          requisicao = requests.get(link)\n",
        "          #print(requisicao)\n",
        "          dic_requisicao = requisicao.json()\n",
        "          global uf\n",
        "          uf = dic_requisicao['uf']\n",
        "          global cidade\n",
        "          cidade = dic_requisicao['localidade']\n",
        "          global bairro\n",
        "          bairro = dic_requisicao['bairro']\n",
        "          global logradouro\n",
        "          logradouro = dic_requisicao['logradouro']\n",
        "          numeracao = dic_requisicao['complemento']\n",
        "          #print(dic_requisicao)\n",
        "          global temp_endereco\n",
        "          temp_endereco = f\"{logradouro}, {numeracao} - {bairro} - {cidade}/{uf}\"\n",
        "        # print(logradouro,\",\", numeracao,\"-\", bairro,\"-\", cidade,\"/\", uf)\n",
        "        # print(temp_endereco)\n",
        "    else:\n",
        "          print(\"CEP Inválido\")\n",
        "          return"
      ],
      "metadata": {
        "id": "r5Ln2x4wjgVP"
      },
      "execution_count": 190,
      "outputs": []
    },
    {
      "cell_type": "markdown",
      "source": [
        "fonte: https://www.hashtagtreinamentos.com/busca-enderecos-com-python\n",
        "fonte: https://educationecosystem.com/blog/python-como-usar-variavel-global-numa-funcao/"
      ],
      "metadata": {
        "id": "7ZVP39N9-fmM"
      }
    },
    {
      "cell_type": "code",
      "source": [
        "def filtrar_user(temp_cpf):\n",
        "    user_filtro = [users_dict for users_dict in users_dict if users_dict[\"CPF\"] == temp_cpf]\n",
        "    if user_filtro:\n",
        "        print(\"Usuário existente, cadastro inválido.\")\n",
        "        temp_cpf = \"\"\n",
        "    return user_filtro[0] if user_filtro else None"
      ],
      "metadata": {
        "id": "slFhlQn_vvP0"
      },
      "execution_count": 191,
      "outputs": []
    },
    {
      "cell_type": "code",
      "source": [
        "def listar_clientes(users_dict):\n",
        "  if users_dict:\n",
        "    linha_acumulada = \"\"\n",
        "    for cpf, user in users_dict.items():\n",
        "        linha = f\"\"\"\\\n",
        "            Nome: {user[\"nome\"]}\n",
        "            CPF:  {cpf}\n",
        "            Endereço: {user[\"endereco\"]}\n",
        "        \"\"\"\n",
        "        print(linha)\n",
        "    linha_acumulada += linha + \"\\n\"  # Adiciona a linha atual à acumulação\n",
        "  else: print(\"sem clientes cadastrados\")\n",
        "# a impressão não funcionou dentro do loop sabe-se lá pq...\n",
        "    #print(linha_acumulada)"
      ],
      "metadata": {
        "id": "FmhW9okhFZpQ"
      },
      "execution_count": 192,
      "outputs": []
    },
    {
      "cell_type": "code",
      "source": [
        "def deletar_usuario_por_cpf(users_dict, deleted_users_dict, user_filtro):\n",
        "    if user_filtro is not None:\n",
        "        user_que_se_vai = user_filtro[0]\n",
        "        cpf = user_que_se_vai[\"CPF\"]\n",
        "        #print(f\"{cpf}\")\n",
        "        deleted_user = users_dict.pop(cpf)  # Remove e obtém o usuário excluído\n",
        "        #print(f\"{deleted_user}\")\n",
        "        #print(f\"Nome dele: {deleted_user[\"nome\"]}\")\n",
        "        deleted_users_dict[cpf] = deleted_user  # Adiciona o usuário excluído à lista de excluídos\n",
        "        print(f\"Usuário com CPF {bcolors.BOLD}{cpf}{bcolors.ENDC} foi deletado.\")\n",
        "    else:\n",
        "        print(f\"Usuário não encontrado na lista.\")"
      ],
      "metadata": {
        "id": "tj_HgsZpfXU9"
      },
      "execution_count": 193,
      "outputs": []
    },
    {
      "cell_type": "markdown",
      "source": [
        "## Parte das Contas"
      ],
      "metadata": {
        "id": "rqCCdt69a0T5"
      }
    },
    {
      "cell_type": "code",
      "source": [
        "def criar_conta(temp_cpf, tipo_de_conta):\n",
        "  global dict_contas\n",
        "  if temp_cpf in users_dict: #cliente cadastrado\n",
        "#    if \"contas\" not in dict_contas[temp_cpf]:\n",
        "#      dict_contas[temp_cpf][\"contas\"]=[]\n",
        "\n",
        "    if tipo_de_conta == \"ContaPadrao\":\n",
        "        nova_conta = ContaPadrao(temp_cpf)\n",
        "#        dict_contas[temp_cpf] = nova_conta\n",
        "    elif tipo_de_conta == \"ContaOuro\":\n",
        "        nova_conta = ContaOuro(temp_cpf)\n",
        "#        dict_contas[temp_cpf] = nova_conta\n",
        "    else:\n",
        "      print(\"Tipo de conta não encontrado.\")\n",
        "      return\n",
        "\n",
        "#dict baseado no número único da conta ou invés do CPF\n",
        "    dict_contas[str(nova_conta.numero_conta)] = {\n",
        "        \"agencia\": nova_conta.agencia,\n",
        "        \"conta\": nova_conta.numero_conta,\n",
        "        \"CPF\": temp_cpf,\n",
        "        \"tipo\": tipo_de_conta,\n",
        "        \"instancia\": nova_conta\n",
        "    }\n",
        "#    nova_conta_info = {\n",
        "#            \"conta\": nova_conta,\n",
        "#            \"tipo\": tipo_de_conta\n",
        "#    }\n",
        "\n",
        "#    dict_contas[temp_cpf][\"contas\"].append(nova_conta_info)\n",
        "\n",
        "#    dict_contas[temp_cpf][\"contas\"].append(nova_conta) #= {\n",
        "#        \"conta\": nova_conta.numero_conta,\n",
        "#        \"tipo\": tipo_de_conta\n",
        "#    }"
      ],
      "metadata": {
        "id": "kMUs-WMfg015"
      },
      "execution_count": 194,
      "outputs": []
    },
    {
      "cell_type": "code",
      "source": [
        "def listar_contas(dict_contas):\n",
        "    if dict_contas:\n",
        "        print(\"Lista de todas as contas:\")\n",
        "        for conta_num, info_conta in dict_contas.items():\n",
        "            agencia = info_conta[\"agencia\"]\n",
        "            conta = info_conta[\"conta\"]\n",
        "            CPF = info_conta[\"CPF\"]\n",
        "            tipo_de_conta = info_conta[\"tipo\"]\n",
        "\n",
        "            print(f\"Agência: {agencia} | Conta: {conta} | CPF: {CPF} | Tipo de Conta: {tipo_de_conta}\")\n",
        "    else:\n",
        "        print(\"Nenhuma conta cadastrada.\")\n",
        "\n",
        "#def listar_contas(dict_contas):\n",
        "#  if dict_contas:\n",
        "#    linha_acumulada = \"\"\n",
        "#    for cpf, info_conta in dict_contas.items():\n",
        "#            tipo_de_conta = info_conta[\"tipo\"]\n",
        "#            conta = info_conta[\"conta\"]\n",
        "#            linha = f\"\"\"\\\n",
        "#                CPF: {cpf}\n",
        "#                Tipo de Conta: {tipo_de_conta}\n",
        "#                Agência/Conta: {conta.agencia}/{conta.numero_conta}\n",
        "#                Saldo: {conta.saldo:.2f}\n",
        "#            \"\"\"\n",
        "#            print(linha)\n",
        "#            linha_acumulada += linha + \"\\n\"  # Adiciona a linha atual à acumulação\n",
        "#    print(linha_acumulada)\n",
        "#  else:\n",
        "#    print(\"Nenhuma conta cadastrada.\")"
      ],
      "metadata": {
        "id": "OU5-sir-F6Jl"
      },
      "execution_count": 195,
      "outputs": []
    },
    {
      "cell_type": "code",
      "source": [
        "def listar_contas_CPF(temp_cpf):\n",
        "    contas_encontradas = []\n",
        "\n",
        "    for conta_num, info_conta in dict_contas.items():\n",
        "        if info_conta[\"CPF\"] == temp_cpf:\n",
        "            agencia = info_conta[\"agencia\"]\n",
        "            conta = info_conta[\"conta\"]\n",
        "            tipo_de_conta = info_conta[\"tipo\"]\n",
        "\n",
        "            contas_encontradas.append(f\"Agência: {agencia} | Conta: {conta} | Tipo de Conta: {tipo_de_conta}\")\n",
        "\n",
        "    if contas_encontradas:\n",
        "        print(f\"Lista de contas para o CPF: {temp_cpf}\")\n",
        "        for conta_info in contas_encontradas:\n",
        "            print(conta_info)\n",
        "    else:\n",
        "        print(\"CPF não encontrado na lista de contas.\")\n",
        "\n",
        "#def listar_contas_CPF(temp_cpf): #procura as contas com o mesmo CPF\n",
        "#    linha_acumulada = \"\"\n",
        "#    for user in (dict_contas[\"CPF\"]==temp_cpf):\n",
        "#        linha = f\"\"\"Agência/conta: {user[\"agencia\"]}/{user[\"conta\"]}\"\"\"\n",
        "#        linha_acumulada += linha + \"\\n\"  # Adiciona a linha atual à acumulação\n",
        "# a impressão não funcionou dentro do loop sabe-se lá pq...\n",
        "#    print(linha_acumulada)\n",
        "\n",
        "#def listar_contas_CPF(temp_cpf):\n",
        "#    if temp_cpf in dict_contas:\n",
        "#        contas_do_cliente = dict_contas[temp_cpf]\n",
        "#        print(f\"Lista de contas para o CPF: {temp_cpf}\")\n",
        "#        for tipo_conta, contas in contas_do_cliente.items():\n",
        "#          for conta in contas:\n",
        "#                print(f\"Tipo de Conta: {tipo_conta}, Número da Conta: {conta.numero_conta}\")\n",
        "#    else:\n",
        "#        print(\"CPF não encontrado na lista de contas.\")\n",
        "\n",
        "#if temp_cpf in dict_contas:\n",
        "#        contas_do_cliente = dict_contas[temp_cpf]\n",
        "#        print(f\"Contas do Cliente CPF {temp_cpf}:\")\n",
        "#        for tipo_conta, contas in contas_do_cliente.items():\n",
        "#            for conta in contas:\n",
        "#                print(f\"Tipo de Conta: {tipo_conta}, Número da Conta: {conta.numero_conta}\")"
      ],
      "metadata": {
        "id": "1QYBxW7XHaEv"
      },
      "execution_count": 196,
      "outputs": []
    },
    {
      "cell_type": "code",
      "source": [
        "def deletar_conta_por_cpf(dict_contas, deleted_contas_dict, user_filtro, excluir_conta, temp_cpf):\n",
        "    if temp_cpf in users_dict and excluir_conta in dict_contas:\n",
        "        conta_que_fecha = user_filtro[0]\n",
        "        cpf = conta_que_fecha[\"CPF\"]\n",
        "        conta_no = conta_que_fecha[\"conta\"]\n",
        "\n",
        "        if excluir_conta in dict_contas and dict_contas[excluir_conta][\"CPF\"] == temp_cpf:\n",
        "            deleted_contas_dict[excluir_conta] = dict_contas.pop(excluir_conta)\n",
        "            print(f\"Conta {excluir_conta} associada ao CPF {temp_cpf} foi movida para a lista de contas excluídas.\")\n",
        "            user_filtro.remove(conta_que_fecha)\n",
        "        else:\n",
        "            print(f\"Conta {excluir_conta} não encontrada ou não associada ao CPF {temp_cpf}.\")\n",
        "    else:\n",
        "        print(f\"CPF {temp_cpf} não encontrado ou conta {excluir_conta} não existe.\")\n",
        "\n",
        "#def deletar_conta_por_cpf(dict_contas, deleted_contas_dict, user_filtro, excluir_conta, temp_cpf):\n",
        "#    if dict_contas is not None:\n",
        "#      conta_que_fecha = user_filtro[0]\n",
        "#      cpf = conta_que_fecha[\"CPF\"]\n",
        "#      tipo_de_conta = excluir_conta[\"tipo\"]\n",
        "#      numero_conta = excluir_conta[\"conta\"]\n",
        "#\n",
        "#      if cpf in dict_contas:\n",
        "#        contas_do_cliente = dict_contas[cpf].get(tipo_de_conta)\n",
        "#        if contas_do_cliente:\n",
        "#            for i, conta in enumerate(contas_do_cliente):\n",
        "#                if conta.numero_conta == numero_conta:\n",
        "#                    conta_a_excluir = contas_do_cliente.pop(i)\n",
        "#                    deleted_contas_dict.append(conta_a_excluir)\n",
        "#                    print(f\"Conta {numero_conta} do cliente CPF {temp_cpf} foi deletada.\")\n",
        "#                    return\n",
        "#            print(f\"Conta {numero_conta} não encontrada para o cliente CPF {temp_cpf}.\")\n",
        "#        else:\n",
        "#            print(f\"Cliente CPF {temp_cpf} não possui contas do tipo {tipo_de_conta}.\")\n",
        "#    else:\n",
        "#        print(f\"Cliente CPF {temp_cpf} não encontrado na lista de contas.\")\n",
        "\n",
        "#      conta_no = conta_que_fecha[\"conta\"]\n",
        "#      deleted_contas_dict = dict_contas.pop(cpf)\n",
        "#      deleted_contas_dict[cpf] = deleted_contas_dict\n",
        "#      conta_no.deletar_conta()\n",
        "\n",
        "\n",
        "#def deletar_conta_por_cpf(lista_contas, deleted_contas_list, temp_conta2):\n",
        "#    index_para_deletar = None\n",
        "#\n",
        "#    # Encontrar o índice do usuário com a conta alvo\n",
        "#    for index, user in enumerate(lista_contas):\n",
        "#        if user[\"conta\"] == temp_conta2:\n",
        "#            index_para_deletar = index\n",
        "#            break  # Usuário encontrado\n",
        "#\n",
        "#    if index_para_deletar is not None:\n",
        "#        deleted_user = lista_contas.pop(index_para_deletar)  # Remove e obtém o usuário excluído\n",
        "#        deleted_contas_list.append(deleted_user)  # Adiciona o usuário excluído à lista de excluídos\n",
        "#        print(f\"Conta {bcolors.BOLD}{temp_conta2}{bcolors.ENDC} com CPF {bcolors.BOLD}{temp_cpf}{bcolors.ENDC} foi deletado.\")\n",
        "#    else:\n",
        "#        print(f\"Conta {bcolors.BOLD}{temp_cpf}{bcolors.ENDC} não encontrado na lista.\") # usando del dentro da classe"
      ],
      "metadata": {
        "id": "7Pzx4gs8CR8Z"
      },
      "execution_count": 197,
      "outputs": []
    },
    {
      "cell_type": "code",
      "source": [
        "#def depositar(saldo, valor, extrato, /):\n",
        "#    if valor > 0:\n",
        "#        saldo += valor\n",
        "#        extrato += f\"Depósito:  R$ {valor:.2f}\\n\"\n",
        "#    else: print(\"Operação falhou! Valor informado é inválido.\")\n",
        "#    return saldo, extrato # está dentro da classe"
      ],
      "metadata": {
        "id": "i13jJkbts5GY"
      },
      "execution_count": 198,
      "outputs": []
    },
    {
      "cell_type": "code",
      "source": [
        "#def sacar(*, saldo, valor, extrato, limite, numero_saques, LIMITE_SAQUES):\n",
        "#    excedeu_saldo = saldo > saldo\n",
        "#    excedeu_limite = valor > limite\n",
        "#    excedeu_saques = numero_saques >= LIMITE_SAQUES\n",
        "#    if excedeu_saldo: print(\"Operação falhou! Saldo insuficiente na conta.\")\n",
        "#    elif excedeu_limite: print(\"Operação falhou! Saque acima do limite por saque.\")\n",
        "#    elif excedeu_saques: print(\"Operação falhou! Limite de semanal diário atingido.\")\n",
        "#    elif valor > 0:\n",
        "#      saldo -= valor\n",
        "#      extrato += f\"Saque:     R$ {valor:.2f}\\n\"\n",
        "#      numero_saques += 1\n",
        "#    else: print(\"Operação falhou! Valor informado inválido.\")\n",
        "#    return saldo, extrato \"\"\" # está dentro da classe"
      ],
      "metadata": {
        "id": "8J_V3XhctoHO"
      },
      "execution_count": 199,
      "outputs": []
    },
    {
      "cell_type": "code",
      "source": [
        "#def exibir_extrato(saldo, /, *, extrato):\n",
        "#    print(\"\\n =-=-=- Extrato -=-=-=\")\n",
        "#    print(\"Não foram realizadas movimentações em conta.\" if not extrato else extrato)\n",
        "#    print(f\"\\nSaldo:     R$ {saldo:.2f}\")\n",
        "#    print(\"\\n=-=-=-=-=-=-=-=-=-=-=\") # está dentro da classe"
      ],
      "metadata": {
        "id": "cBUsjc6wt2G8"
      },
      "execution_count": 200,
      "outputs": []
    },
    {
      "cell_type": "markdown",
      "source": [
        "Loop da \"função\" menu"
      ],
      "metadata": {
        "id": "E-j1_iuIGrEH"
      }
    },
    {
      "cell_type": "code",
      "source": [
        "while True:\n",
        "  print(f\"\"\"\n",
        "[1] Cadastrar novo Cliente\n",
        "[2] Listar Clientes\n",
        "{bcolors.BOLD}[3] Remover Cliente da Lista{bcolors.ENDC}\n",
        "[4] Cadastrar nova Conta\n",
        "[5] Listar Contas\n",
        "{bcolors.BOLD}[6] Fechar Conta{bcolors.ENDC}\n",
        "\n",
        "*[9] Operação Básicas da conta\n",
        "[0] Sair\n",
        "\n",
        "SB02:\\\\ \"\"\")\n",
        "\n",
        "  #print(user_list) #teste\n",
        "  opcao = input().strip()\n",
        "\n",
        "  if opcao == \"1\":\n",
        "            #print(f\"{temp}, {temp_cpf}\") #teste\n",
        "            temp = \"1\"\n",
        "\n",
        "            while True: #menu com atualização de dados durante preenchimento\n",
        "              print(f\"\"\"\n",
        "Insira os dados de Cadastro\n",
        "[1] novo CPF (sem pontos e traços)\n",
        "{bcolors.OKGREEN}{temp_cpf}{bcolors.ENDC}\n",
        "[2] Nome e Sobrenome\n",
        "{bcolors.OKGREEN}{temp_nome}{bcolors.ENDC}\n",
        "[3] Data de nascimento (xx/xx/xxxx)\n",
        "{bcolors.OKGREEN}{temp_data}{bcolors.ENDC}\n",
        "[4] CEP\n",
        "{bcolors.OKGREEN}{temp_cep}{bcolors.ENDC}\n",
        "{temp_endereco}\n",
        "[5] Número\n",
        "{bcolors.OKGREEN}{temp_numero}{bcolors.ENDC}\n",
        "[6] Complemento\n",
        "{bcolors.OKGREEN}{temp_complemento}{bcolors.ENDC}\n",
        "\n",
        "{bcolors.WARNING}[Y] Confirmar dados e gerar cadastro?{bcolors.ENDC}\n",
        "\n",
        "{bcolors.BOLD}[0] Cancelar/Retornar{bcolors.ENDC}\n",
        "\n",
        "SB02:\\\\Cliente\\\\Novo\\\\{temp} \"\"\")\n",
        "              opcao2 = input().strip()\n",
        "              if opcao2 == \"1\":\n",
        "                  temp_cpf = input(\"CPF: \")\n",
        "                  filtrar_user(temp_cpf)\n",
        "              elif opcao2 == \"2\": temp_nome = input(\"Nome: \")\n",
        "              elif opcao2 == \"3\": temp_data = input(\"Data: \")\n",
        "              elif opcao2 == \"4\":\n",
        "                  temp_cep = input(\"CEP: \")\n",
        "                  cep_locate(temp_cep)\n",
        "\n",
        "              elif opcao2 == \"5\": temp_numero = input(\"N°: \")\n",
        "              elif opcao2 == \"6\": temp_complemento = input(\"Complemento: \")\n",
        "\n",
        "              elif opcao2 == \"Y\":  #verificando campos vazios\n",
        "                                  if (\n",
        "                                      temp_cpf==\"\" or\n",
        "                                      temp_nome==\"\" or\n",
        "                                      temp_data==\"\" or\n",
        "                                      temp_cep==\"\" or\n",
        "                                      temp_numero==\"\" or\n",
        "                                      temp_complemento==\"\" or\n",
        "                                      temp_endereco==\"\"):\n",
        "                                      print(\"Preencha todos os dados para proceguir.\")\n",
        "\n",
        "                                  else: #gravando novo usuário\n",
        "                                      endereco = f\"{logradouro}, {temp_numero} - {bairro} - {cidade}/{uf}\"\n",
        "                                      criar_usuario(temp_cpf, temp_nome, temp_data, temp_cep, endereco, temp_complemento)\n",
        "                                      temp = \"\"\n",
        "                                      temp_cpf=\"\"\n",
        "                                      temp_nome=\"\"\n",
        "                                      temp_data=\"\"\n",
        "                                      temp_cep=\"\"\n",
        "                                      temp_numero=\"\"\n",
        "                                      temp_complemento=\"\"\n",
        "                                      temp_endereco=\"\"\n",
        "                                      break\n",
        "              elif opcao2 == \"0\": #limpando dados temporários do cadastro\n",
        "                                  temp = \"\"\n",
        "                                  temp_cpf=\"\"\n",
        "                                  temp_nome=\"\"\n",
        "                                  temp_data=\"\"\n",
        "                                  temp_cep=\"\"\n",
        "                                  temp_numero=\"\"\n",
        "                                  temp_complemento=\"\"\n",
        "                                  temp_endereco=\"\"\n",
        "                                  break\n",
        "              else: print(\"Operação inválida, escolha uma opção disponível.\")\n",
        "\n",
        "  elif opcao == \"2\":\n",
        "    temp = \"2\"\n",
        "    listar_clientes(users_dict)\n",
        "\n",
        "  elif opcao == \"3\":\n",
        "    temp = \"3\"\n",
        "    listar_clientes(users_dict)\n",
        "    temp_cpf = (input(\"Informe o CPF do ex-Cliente: \"))\n",
        "    user_filtro = [user for user in users_dict.values() if user[\"CPF\"] == temp_cpf] #guardou o dict do cliente\n",
        "    if user_filtro:\n",
        "        while True:\n",
        "            opt = input(f\"Confirmar exclusão de dados? (CPF:{temp_cpf}) Y/N\")\n",
        "            if opt == \"Y\":\n",
        "                deletar_usuario_por_cpf(users_dict, deleted_users_dict, user_filtro)\n",
        "                temp_cpf=\"\"\n",
        "                break\n",
        "            elif opt == \"N\":\n",
        "                temp_cpf=\"\"\n",
        "                break\n",
        "            else:\n",
        "                print(\"Caracter inválido.\")\n",
        "\n",
        "  elif opcao ==\"4\":\n",
        "            temp = \"4\"\n",
        "            while True:\n",
        "                temp_conta3 = \"\"\n",
        "                temp_cpf = input(\"Informe o CPF do Cliente cadastrado: \").strip()\n",
        "                user_filtro = [user for user in users_dict.values() if user[\"CPF\"] == temp_cpf] #verificando cadastro\n",
        "                if user_filtro: break\n",
        "                else: print(\"Cliente não cadastrado/encontrado.\")\n",
        "            temp_contas = listar_contas_CPF(temp_cpf) ###falahdno = none\n",
        "            while True:\n",
        "              print(f\"\"\"\n",
        "Abertura de Conta\n",
        "[1] CPF do Cliente\n",
        "{bcolors.OKGREEN}{temp_cpf}{bcolors.ENDC}\n",
        "[2] Abrir nova Conta (1.Padrão / 2.Ouro)\n",
        "{bcolors.OKGREEN}{temp_conta2}{bcolors.ENDC}\n",
        "[-] Contas neste CPF\n",
        "{bcolors.OKCYAN}{temp_contas}{bcolors.ENDC}\n",
        "[4] Fechar conta\n",
        "{temp_conta3}\n",
        "\n",
        "{bcolors.WARNING}[Y] Confirmar operações de abertura/fechamento de conta?{bcolors.ENDC}\n",
        "\n",
        "{bcolors.BOLD}[0] Cancelar/Retornar{bcolors.ENDC}\n",
        "\n",
        "SB02:\\\\Conta\\\\Nova\\\\{temp} \"\"\")\n",
        "              opcao4 = input().strip()\n",
        "              if opcao4 == \"1\":\n",
        "                while True:\n",
        "                  temp_conta3=\"\"\n",
        "                  temp_cpf = input(\"Alterar CPF para outro cliente: \").strip()\n",
        "                  user_filtro = [user for user in users_dict.values() if user[\"CPF\"] == temp_cpf]\n",
        "                  if user_filtro: break\n",
        "                  else: print(\"Cliente não cadastrado/encontrado.\")\n",
        "                temp_contas = listar_contas_CPF(temp_cpf)\n",
        "\n",
        "              elif opcao4 == \"2\":\n",
        "                while True:\n",
        "                  temp_conta3=\"\"\n",
        "                  temp_conta2 = input(\"Tipo de Conta (1 para Padrão ou 2 para Ouro): \")\n",
        "                  if temp_conta2 == \"1\":\n",
        "                    temp_conta2 = \"ContaPadrao\"\n",
        "                    break\n",
        "                  elif temp_conta2 == \"2\":\n",
        "                    temp_conta2 = \"ContaOuro\"\n",
        "                    break\n",
        "                  else: input(\"Tipo de Conta não reconhecida.\")\n",
        "\n",
        "              elif opcao4 == \"4\":\n",
        "                while True:\n",
        "                  temp_conta3 = input(\"Selecione a conta para fechar: \")\n",
        "\n",
        "                  if temp_conta3:\n",
        "                    excluir_cadastro = dict_contas[\"tipo_de_conta\"].dict_contas[\"conta\": temp_conta3]\n",
        "                    break\n",
        "\n",
        "              elif opcao4 == \"Y\":  #verificando campos vazios\n",
        "                                  if (\n",
        "                                      temp_cpf==\"\" or\n",
        "                                      temp_conta2==\"\"):\n",
        "                                      print(\"Seleção de CPF ou Conta falhou.\")\n",
        "\n",
        "                                  elif temp_conta2 == \"ContaOuro\" or \"ContaPadrao\": #gravando novo usuário\n",
        "                                      criar_conta(temp_cpf, temp_conta2)\n",
        "                                      temp = \"\"\n",
        "                                      temp_cpf=\"\"\n",
        "                                      temp_nome=\"\"\n",
        "                                      break\n",
        "                                  elif temp_conta3 == dict_contas[\"conta\": temp_conta3]:\n",
        "                                      excluir_cadastro.deletar_conta\n",
        "                                      break\n",
        "\n",
        "\n",
        "              elif opcao4 == \"0\": #limpando dados temporários do cadastro\n",
        "                                  temp = \"\"\n",
        "                                  temp_cpf=\"\"\n",
        "                                  temp_contas=\"\"\n",
        "                                  temp_conta2=\"\"\n",
        "                                  break\n",
        "              else: print(\"Operação inválida, escolha uma opção disponível.\")\n",
        "\n",
        "  elif opcao == \"5\":\n",
        "    temp = \"5\"\n",
        "    listar_contas(dict_contas) #falhando/ok\n",
        "\n",
        "  elif opcao == \"6\":\n",
        "    temp = \"6\"\n",
        "    temp_cpf = (input(\"Informe o CPF do Cliente: \"))\n",
        "    user_filtro = [user for user in users_dict.values() if user[\"CPF\"] == temp_cpf]\n",
        "    if user_filtro:\n",
        "\n",
        "        listar_contas_CPF(temp_cpf) #falha!!!/ok\n",
        "\n",
        "        excluir_conta = input(\"Digite o numero da conta que deseja fechar: \")\n",
        "        opcao4 = input(\"Digite Y para confirmar.\")\n",
        "        if opcao4 == \"Y\":\n",
        "            deletar_conta_por_cpf(dict_contas, deleted_contas_dict, user_filtro, excluir_conta, temp_cpf)\n",
        "        else: \"Operação inválida.\"\n",
        "    else: \"Alguma coisa falhou.\"\n",
        "\n",
        "  elif opcao == \"9\": #operações na conta\n",
        "      while True:\n",
        "          opcao9 = input(\"Informe o número da sua conta ou 0 para retornar: \")\n",
        "          if opcao9 in dict_contas:\n",
        "              #temp_conta = dict_contas.get(opcao9)\n",
        "              #instancia = temp_conta #dict_contas.get(\"instancia\")\n",
        "              instancia = dict_contas[opcao9][\"instancia\"]\n",
        "              while True:\n",
        "                  opcao = input(Operacoes).strip()\n",
        "\n",
        "                  if opcao == \"D\":\n",
        "                    valor = float(input(\"Informe o valor a DEPOSITAR: \"))\n",
        "                    #if temp_conta[\"tipo\"] == \"ContaOuro\":\n",
        "                        #conta = ContaOuro(temp_conta[\"CPF\"])  # Crie uma instância de ContaOuro\n",
        "                        #temp_conta.depositar(valor)\n",
        "                    #elif temp_conta[\"tipo\"] == \"ContaPadrao\":\n",
        "                        #conta = ContaPadrao(temp_conta[\"CPF\"])  # Crie uma instância de ContaPadrao\n",
        "                        #temp_conta.depositar(valor)\n",
        "                    instancia.depositar(valor)\n",
        "                    dict_contas[opcao9][\"instancia\"] = instancia\n",
        "                    print(f\"{valor} depositado.\")\n",
        "\n",
        "                  elif opcao == \"S\":\n",
        "                    valor = float(input(\"Informe o valor a SACAR: \"))\n",
        "                    #if temp_conta[\"tipo\"] == \"ContaOuro\":\n",
        "                        #conta = ContaOuro(temp_conta[\"CPF\"])  # Crie uma instância de ContaOuro\n",
        "                    instancia.sacar(valor=valor)\n",
        "                    #elif temp_conta[\"tipo\"] == \"ContaPadrao\":\n",
        "                        #conta = ContaPadrao(temp_conta[\"CPF\"])  # Crie uma instância de ContaPadrao\n",
        "                    #    instancia.sacar(valor=valor)\n",
        "                    dict_contas[opcao9][\"instancia\"] = instancia\n",
        "                    print(f\"{valor} sacado.\")\n",
        "\n",
        "                  elif opcao == \"E\":\n",
        "                      #if temp_conta[\"tipo\"] == \"ContaOuro\":\n",
        "                          #instancia = temp_conta[\"instancia\"]\n",
        "                          instancia.imprimir_extrato(instancia.saldo, extrato_movimentacao=instancia.extrato_movimentacao)\n",
        "                      #elif temp_conta[\"tipo\"] == \"ContaPadrao\":\n",
        "                          #instancia = temp_conta[\"instancia\"]\n",
        "                          #instancia.imprimir_extrato(saldo=instancia.saldo, extrato_movimentacao=instancia.extrato_movimentacao)\n",
        "                          print(\"fim.\")\n",
        "\n",
        "                  #elif opcao == \"E\":\n",
        "                    #f temp_conta[\"tipo\"] == \"ContaOuro\":\n",
        "                        #conta = ContaOuro(temp_conta[\"CPF\"])  # Crie uma instância de ContaOuro\n",
        "                        #instancia.imprimir_extrato(conta.saldo, extrato_movimentacao=conta.extrato_movimentacao)\n",
        "                   # elif temp_conta[\"tipo\"] == \"ContaPadrao\":\n",
        "                        #conta = ContaPadrao(temp_conta[\"CPF\"])  # Crie uma instância de ContaPadrao\n",
        "                        #instancia.imprimir_extrato(instancia.saldo, extrato_movimentacao=extrato_movimentacao)\n",
        "                       # print(\"fim.\")\n",
        "\n",
        "                  elif opcao == \"q\": break\n",
        "\n",
        "                  else: print(\"Operação inválida, escolha uma opção disponível.\")\n",
        "\n",
        "\n",
        "\n",
        "          elif opcao9 == \"0\": break\n",
        "          else: print(\"Conta não encontrada.\")\n",
        "\n",
        "  elif opcao == \"0\": break\n",
        "\n",
        "  else: print(\"Operação inválida, escolha uma opção disponível.\")\n"
      ],
      "metadata": {
        "id": "xdVobj0F3H2l"
      },
      "execution_count": null,
      "outputs": []
    },
    {
      "cell_type": "code",
      "source": [
        "print(temp_conta)"
      ],
      "metadata": {
        "id": "YhB9xHGquheY"
      },
      "execution_count": null,
      "outputs": []
    },
    {
      "cell_type": "code",
      "source": [
        "users_dict.clear() #teste\n",
        "deleted_contas_dict.clear()\n",
        "deleted_users_dict.clear()\n",
        "dict_contas.clear()"
      ],
      "metadata": {
        "id": "swrg-OVyQ5E5"
      },
      "execution_count": 202,
      "outputs": []
    },
    {
      "cell_type": "code",
      "source": [
        "#\n",
        "#criar_usuario(temp_cpf, temp_nome, temp_data, temp_cep, endereco, temp_complemento)\n",
        "#\n",
        "criar_usuario(\"252525\", \"deise\", \"23/11/1983\", \"88040410\",\" Douglas Seabra\", \"NA\")\n",
        "criar_usuario(\"898989\", \"joaoz\", \"12/01/2000\", \"88040410\",\" rua das flores\", \"NA\")\n",
        "criar_usuario(\"234706\", \"maria\", \"03/03/2008\", \"88025025\", \"av das cocadas\", \"NA\")\n",
        "#\n",
        "#deletar_usuario_por_cpf(users_dict, deleted_users_dict, user_filtro)\n",
        "#\n",
        "#temp_cpf = \"234706\"\n",
        "#user_filtro = [user for user in users_dict.values() if user[\"CPF\"] == temp_cpf]\n",
        "#deletar_usuario_por_cpf(users_dict, deleted_users_dict, user_filtro)\n",
        "#\n",
        "#criar_conta(temp_cpf, temp_conta2) / temp_conta2 = \"ContaPadrao\" \"ContaOuro\"\n",
        "#\n",
        "criar_conta(\"252525\", \"ContaPadrao\")\n",
        "criar_conta(\"898989\", \"ContaOuro\")\n",
        "criar_conta(\"252525\", \"ContaOuro\")\n",
        "criar_conta(\"252525\", \"ContaOuro\")\n",
        "#\n",
        "#temp_cpf = \"252525\"\n",
        "#user_filtro = [user for user in users_dict.values() if user[\"CPF\"] == temp_cpf]\n",
        "#excluir_conta = dict_contas[temp_cpf][\"conta\"]\n",
        "#deletar_conta_por_cpf(dict_contas, deleted_contas_dict, user_filtro, excluir_conta, temp_cpf)\n",
        "#\n",
        "listar_clientes(deleted_users_dict)"
      ],
      "metadata": {
        "id": "BLqUMnNvG42O",
        "colab": {
          "base_uri": "https://localhost:8080/"
        },
        "outputId": "6c6e2204-17e6-4216-d43d-03477782fc9f"
      },
      "execution_count": 203,
      "outputs": [
        {
          "output_type": "stream",
          "name": "stdout",
          "text": [
            "sem clientes cadastrados\n"
          ]
        }
      ]
    },
    {
      "cell_type": "code",
      "source": [
        "#criar_conta(\"252525\", \"ContaPadrao\")\n",
        "\n",
        "print(dict_contas)"
      ],
      "metadata": {
        "id": "g44HDf89QIiJ"
      },
      "execution_count": null,
      "outputs": []
    },
    {
      "cell_type": "code",
      "source": [
        "# Suponha que 'numero_conta' é a chave da conta que você deseja verificar\n",
        "numero_conta = \"2\"  # Substitua pelo número da conta que você deseja verificar\n",
        "\n",
        "# Acesse a instância da conta a partir do dicionário\n",
        "instancia_conta = dict_contas[numero_conta][\"instancia\"]\n",
        "\n",
        "# Agora, você pode imprimir os atributos da instância para verificar se estão atualizados\n",
        "print(\"Saldo atual:\", instancia_conta.saldo)\n",
        "print(\"lim saque atual:\", instancia_conta.limite_saques)\n",
        "print(\"saques:\", instancia_conta.num_saques)\n",
        "print(\"Extrato de movimentação:\", instancia_conta.extrato_movimentacao)\n"
      ],
      "metadata": {
        "id": "FUMb6TTA9yxG"
      },
      "execution_count": null,
      "outputs": []
    },
    {
      "cell_type": "code",
      "source": [
        "#listar_contas_CPF(temp_cpf)\n",
        "#listar_contas(dict_contas)\n",
        "listar_contas(dict_contas)\n",
        "listar_contas_CPF(\"252525\")"
      ],
      "metadata": {
        "id": "ELHUDikghi4C"
      },
      "execution_count": null,
      "outputs": []
    },
    {
      "cell_type": "code",
      "source": [
        "temp_cpf = \"252525\"\n",
        "excluir_conta = \"11\"\n",
        "user_filtro = [conta for conta in dict_contas.values() if str(conta[\"conta\"]) == excluir_conta]\n",
        "3\n",
        "deletar_conta_por_cpf(dict_contas, deleted_contas_dict, user_filtro, excluir_conta, temp_cpf)\n",
        "listar_contas(deleted_contas_dict)"
      ],
      "metadata": {
        "id": "e0PZIRb3mLAy"
      },
      "execution_count": null,
      "outputs": []
    },
    {
      "cell_type": "code",
      "source": [
        "print(user_filtro)\n",
        "print(\"Valores em dict_contas:\")\n",
        "for conta in dict_contas.values():\n",
        "    print(conta)\n",
        "\n",
        "print(\"Valor de excluir_conta:\", excluir_conta)\n"
      ],
      "metadata": {
        "id": "4mo5W7qFfjKM"
      },
      "execution_count": null,
      "outputs": []
    },
    {
      "cell_type": "code",
      "source": [
        "listar_clientes(users_dict)"
      ],
      "metadata": {
        "id": "vgxLSUXerjvn"
      },
      "execution_count": null,
      "outputs": []
    },
    {
      "cell_type": "code",
      "source": [
        "print(dict_contas)"
      ],
      "metadata": {
        "id": "jyJV_eE1vgv0"
      },
      "execution_count": null,
      "outputs": []
    },
    {
      "cell_type": "code",
      "source": [
        "print(users_dict)"
      ],
      "metadata": {
        "id": "qkCabvS_rRWZ"
      },
      "execution_count": null,
      "outputs": []
    },
    {
      "cell_type": "code",
      "source": [
        "print(f\"lista negra de clientes: {len(deleted_users_dict)}, key {len(deleted_users_dict.keys())}\")\n",
        "print(f\"lista de contas zuadas: {len(deleted_contas_dict)}, key {len(deleted_contas_dict.keys())}\")"
      ],
      "metadata": {
        "id": "ZMevzoEhMN3S"
      },
      "execution_count": null,
      "outputs": []
    }
  ]
}