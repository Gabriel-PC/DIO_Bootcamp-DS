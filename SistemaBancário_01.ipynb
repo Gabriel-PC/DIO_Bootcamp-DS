{
  "nbformat": 4,
  "nbformat_minor": 0,
  "metadata": {
    "colab": {
      "provenance": [],
      "authorship_tag": "ABX9TyO4c5EPpG5oQm7WEAmNuvME",
      "include_colab_link": true
    },
    "kernelspec": {
      "name": "python3",
      "display_name": "Python 3"
    },
    "language_info": {
      "name": "python"
    }
  },
  "cells": [
    {
      "cell_type": "markdown",
      "metadata": {
        "id": "view-in-github",
        "colab_type": "text"
      },
      "source": [
        "<a href=\"https://colab.research.google.com/github/Gabriel-PC/DIO_Bootcamp-DS/blob/main/SistemaBanc%C3%A1rio_01.ipynb\" target=\"_parent\"><img src=\"https://colab.research.google.com/assets/colab-badge.svg\" alt=\"Open In Colab\"/></a>"
      ]
    },
    {
      "cell_type": "markdown",
      "source": [
        "1o Desafio DIO - 3 operações básicas para um sistema bancário"
      ],
      "metadata": {
        "id": "KrNHvnr-H4BN"
      }
    },
    {
      "cell_type": "code",
      "execution_count": 1,
      "metadata": {
        "id": "T1yQjFWT-ReQ"
      },
      "outputs": [],
      "source": [
        "menu = \"\"\"\n",
        "[D] Depositar\n",
        "[S] Sacar\n",
        "[E] Extrato\n",
        "[q] Sair\n",
        "=> \"\"\"\n"
      ]
    },
    {
      "cell_type": "markdown",
      "source": [
        "\"\"\" = String de várias linhas"
      ],
      "metadata": {
        "id": "q_9Vi1StGh2u"
      }
    },
    {
      "cell_type": "code",
      "source": [
        "saldo = 0\n",
        "limite = 500\n",
        "extrato = \"\"\n",
        "numero_saques = 0\n",
        "LIMITE_SAQUES = 3"
      ],
      "metadata": {
        "id": "V_seey37_FEg"
      },
      "execution_count": 14,
      "outputs": []
    },
    {
      "cell_type": "markdown",
      "source": [
        "Conta padrão"
      ],
      "metadata": {
        "id": "LhlmaIR3GoMz"
      }
    },
    {
      "cell_type": "code",
      "source": [
        "while True:\n",
        "  opcao = input(menu)\n",
        "\n",
        "  if opcao == \"D\":\n",
        "    valor = float(input(\"Informe o valor a depositar: \"))\n",
        "    if valor > 0:\n",
        "      saldo += valor\n",
        "      extrato += f\"Depósito:  R$ {valor:.2f}\\n\"\n",
        "    else: print(\"Operação falhou! Valor informado é inválido.\")\n",
        "\n",
        "  elif opcao == \"S\":\n",
        "    valor = float(input(\"Informe o valor para saque: \"))\n",
        "    excedeu_saldo = saldo > saldo\n",
        "    excedeu_limite = valor > limite\n",
        "    excedeu_saques = numero_saques >= LIMITE_SAQUES\n",
        "    if excedeu_saldo: print(\"Operação falhou! Saldo insuficiente na conta.\")\n",
        "    elif excedeu_limite: print(\"Operação falhou! Saque acima do limite por saque.\")\n",
        "    elif excedeu_saques: print(\"Operação falhou! Limite de semanal diário atingido.\")\n",
        "    elif valor > 0:\n",
        "      saldo -= valor\n",
        "      extrato += f\"Saque:     R$ {valor:.2f}\\n\"\n",
        "      numero_saques += 1\n",
        "    else: print(\"Operação falhou! Valor informado inválido.\")\n",
        "\n",
        "  elif opcao == \"E\":\n",
        "    print(\"\\n =-=-=- Extrato -=-=-=\")\n",
        "    print(\"Não foram realizadas movimentações em conta.\" if not extrato else extrato)\n",
        "    print(f\"\\nSaldo:     R$ {saldo:.2f}\")\n",
        "    print(\"\\n=-=-=-=-=-=-=-=-=-=-=\")\n",
        "\n",
        "  elif opcao == \"q\": break\n",
        "\n",
        "  else: print(\"Operação inválida, escolha uma opção disponível.\")\n"
      ],
      "metadata": {
        "id": "3GIb_htO_SFR"
      },
      "execution_count": null,
      "outputs": []
    },
    {
      "cell_type": "markdown",
      "source": [
        "Loop da \"função\" menu"
      ],
      "metadata": {
        "id": "E-j1_iuIGrEH"
      }
    }
  ]
}