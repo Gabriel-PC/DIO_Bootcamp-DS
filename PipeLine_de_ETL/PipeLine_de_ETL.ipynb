{
  "nbformat": 4,
  "nbformat_minor": 0,
  "metadata": {
    "colab": {
      "provenance": [],
      "authorship_tag": "ABX9TyPIXJoBMktF0tVwOBFkAhCe",
      "include_colab_link": true
    },
    "kernelspec": {
      "name": "python3",
      "display_name": "Python 3"
    },
    "language_info": {
      "name": "python"
    }
  },
  "cells": [
    {
      "cell_type": "markdown",
      "metadata": {
        "id": "view-in-github",
        "colab_type": "text"
      },
      "source": [
        "<a href=\"https://colab.research.google.com/github/Gabriel-PC/DIO_Bootcamp-DS/blob/main/PipeLine_de_ETL/PipeLine_de_ETL.ipynb\" target=\"_parent\"><img src=\"https://colab.research.google.com/assets/colab-badge.svg\" alt=\"Open In Colab\"/></a>"
      ]
    },
    {
      "cell_type": "markdown",
      "source": [
        "### Guia Rápido desta pipeline\n",
        "\n",
        "Encontre o Relatório: Visite o site da OCDE e encontre o relatório anual de economia.\n",
        "\n",
        "Download Manual: Faça o download do relatório manualmente para uma pasta em seu sistema local.\n",
        "\n",
        "Extração de Dados: Dependendo do formato do relatório (PDF, Excel, CSV), você precisará usar bibliotecas específicas para extrair os dados. Para PDFs, a biblioteca \"PyPDF2\" pode ser útil. Para Excel, a biblioteca \"pandas\" é uma escolha popular.\n",
        "\n",
        "Transformação de Dados: Após extrair os dados, você precisará transformá-los para o formato desejado. Isso pode incluir limpeza de dados, reestruturação e conversão de tipos de dados.\n",
        "\n",
        "Carregamento de Dados: Finalmente, carregue os dados transformados em um local de armazenamento de sua escolha, como um banco de dados SQL, um arquivo CSV ou qualquer outro formato adequado. (no meu caso GitHub)\n",
        "\n",
        "### Comparar as duas bases de dados\n",
        "#### [United Nations University World Institute for Development Economics Research](https://www.wider.unu.edu/)\n",
        "com (ONU com OCDE)\n",
        "####  [Organisation for Economic Co-operation and Development](https://stats.oecd.org/)"
      ],
      "metadata": {
        "id": "0CQiyYsBumYA"
      }
    },
    {
      "cell_type": "markdown",
      "source": [
        "https://stats.oecd.org/"
      ],
      "metadata": {
        "id": "J9wRf-om19Li"
      }
    },
    {
      "cell_type": "code",
      "source": [
        "import pandas as pd\n",
        "\n",
        "# Carregar o arquivo CSV em um DataFrame\n",
        "path = \"/content/OECD_DataGeneric.csv\"\n",
        "df0 = pd.read_csv(path)\n",
        "\n",
        "# Selecionar as colunas relevantes\n",
        "columns = ['SUB', 'Subject', 'LOCATION', 'Country', 'YEA', 'Year', 'Unit Code', 'Unit', 'Value']\n",
        "df0 = df0[columns]\n",
        "df0.info()"
      ],
      "metadata": {
        "id": "ENqhCA6vAn0o"
      },
      "execution_count": null,
      "outputs": []
    },
    {
      "cell_type": "code",
      "source": [
        "# Exibir o DataFrame resultante\n",
        "df0"
      ],
      "metadata": {
        "id": "ceENDH80mcGp"
      },
      "execution_count": null,
      "outputs": []
    },
    {
      "cell_type": "code",
      "source": [
        "df0['Subject'].unique() # verificando os 'temas' dentro de Subject"
      ],
      "metadata": {
        "id": "E2ROaGT1m8fq"
      },
      "execution_count": null,
      "outputs": []
    },
    {
      "cell_type": "code",
      "source": [
        "# Selecionando os campos (Income... está dentro de Subject)\n",
        "sub_selected01 = \"Income inequality: S80/S20 disposable income quintile share\"\n",
        "sub_selected02 = \"Country\" #escolhendo um país base para comparação\n",
        "sub_selected03 = \"Year\"\n",
        "sub_selected04 = \"Value\"\n",
        "\n",
        "#subset_df0 = df0[df0['Subject'] == sub_selected01][['Subject', sub_selected02, sub_selected03, sub_selected04]] #ok\n",
        "subset_df0 = df0[(df0['Subject'] == sub_selected01)&(df0[sub_selected02] == 'United Kingdom')][['Subject', sub_selected02, sub_selected03, sub_selected04]] #ok\n",
        "\n",
        "# Exibir a visão parcial dos dados\n",
        "#print(subset_df)\n",
        "tab1 = subset_df0"
      ],
      "metadata": {
        "id": "pujoYXzJmicq"
      },
      "execution_count": 6,
      "outputs": []
    },
    {
      "cell_type": "code",
      "source": [
        "df0['Subject'].value_counts() # verificação de rotina"
      ],
      "metadata": {
        "id": "HM9hyPS3ncot"
      },
      "execution_count": null,
      "outputs": []
    },
    {
      "cell_type": "markdown",
      "source": [
        "https://www.wider.unu.edu/database/world-income-inequality-database-wiid"
      ],
      "metadata": {
        "id": "De7KpCX_uY6-"
      }
    },
    {
      "cell_type": "markdown",
      "source": [
        "Quintile, decile, percentile group shares The quintile group shares express the share of total income going to each fifth of the population ordered according to the size of their incomes. In the WIID, these shares are expressed as percentages of total income. The first quintile group includes **the poorest 20 per cent of the population**, while the fifth quintile includes **the richest 20 per cent**. Deciles divide the population into ten groups and percentiles into one hundred groups."
      ],
      "metadata": {
        "id": "P-0DOwkykem6"
      }
    },
    {
      "cell_type": "code",
      "source": [
        "import pandas as pd\n",
        "df = pd.read_excel('/content/WIID_30JUN2022_0.xlsx')"
      ],
      "metadata": {
        "id": "YD6dzDT0nE4K"
      },
      "execution_count": 3,
      "outputs": []
    },
    {
      "cell_type": "code",
      "source": [
        "list(df.columns) #verificando as colunas"
      ],
      "metadata": {
        "id": "VB7XYwg9u5_t"
      },
      "execution_count": null,
      "outputs": []
    },
    {
      "cell_type": "code",
      "source": [
        "df['country'].unique() #escolhendo um país base"
      ],
      "metadata": {
        "id": "HetY5i7mz6z0"
      },
      "execution_count": null,
      "outputs": []
    },
    {
      "cell_type": "code",
      "source": [
        "# Selecionando os dados por colunas específicas\n",
        "sub_selected1 = \"ratio_top20bottom20\"\n",
        "sub_selected2 = \"country\" #base de comparação\n",
        "sub_selected3 = \"year\"\n",
        "#sub_selected4 = \"quality_score\" #ainda não sei pra que serve\n",
        "subset_df = df[df[sub_selected2] == 'United Kingdom'][[sub_selected1, sub_selected2, sub_selected3]] #ok\n",
        "#subset_df = df[[sub_selected1, sub_selected2, sub_selected3, sub_selected4]] #ok\n",
        "#subset_df = df[[sub_selected1, sub_selected2, sub_selected3]] #ok\n",
        "\n",
        "# Exibir a visão parcial dos dados\n",
        "#print(subset_df)\n",
        "tab2 = subset_df.groupby(['year', 'country']).mean() #ok #uma vez que os dados de ratio são diversos, foi calcuda a média\n",
        "#subset_df"
      ],
      "metadata": {
        "id": "3h74nIQmu7kG"
      },
      "execution_count": 7,
      "outputs": []
    },
    {
      "cell_type": "code",
      "source": [
        "print(tab1, tab2) #somente para visualizar"
      ],
      "metadata": {
        "colab": {
          "base_uri": "https://localhost:8080/"
        },
        "id": "7VlnYxuvvtjF",
        "outputId": "13c2daa9-7c97-4e75-95a5-7543939070d1"
      },
      "execution_count": 8,
      "outputs": [
        {
          "output_type": "stream",
          "name": "stdout",
          "text": [
            "                                                Subject         Country  Year  \\\n",
            "6804  Income inequality: S80/S20 disposable income q...  United Kingdom  2006   \n",
            "6805  Income inequality: S80/S20 disposable income q...  United Kingdom  2007   \n",
            "6806  Income inequality: S80/S20 disposable income q...  United Kingdom  2008   \n",
            "6807  Income inequality: S80/S20 disposable income q...  United Kingdom  2009   \n",
            "6808  Income inequality: S80/S20 disposable income q...  United Kingdom  2010   \n",
            "6809  Income inequality: S80/S20 disposable income q...  United Kingdom  2011   \n",
            "6810  Income inequality: S80/S20 disposable income q...  United Kingdom  2012   \n",
            "\n",
            "      Value  \n",
            "6804    6.0  \n",
            "6805    6.2  \n",
            "6806    6.1  \n",
            "6807    6.1  \n",
            "6808    5.6  \n",
            "6809    5.6  \n",
            "6810    5.9                        ratio_top20bottom20\n",
            "year country                            \n",
            "1867 United Kingdom                  NaN\n",
            "1938 United Kingdom                  NaN\n",
            "1949 United Kingdom             5.750000\n",
            "1954 United Kingdom             8.220000\n",
            "1955 United Kingdom                  NaN\n",
            "...                                  ...\n",
            "2016 United Kingdom             6.241053\n",
            "2017 United Kingdom             6.234211\n",
            "2018 United Kingdom             6.411579\n",
            "2019 United Kingdom             6.321111\n",
            "2020 United Kingdom                  NaN\n",
            "\n",
            "[66 rows x 1 columns]\n"
          ]
        }
      ]
    },
    {
      "cell_type": "code",
      "source": [
        "# Criando um DataFrame vazio para armazenar os resultados da comparação\n",
        "compare_tabs = pd.DataFrame(columns=['Year', 'Country', 'Percentual_Difference', 'ratio_top20bottom20'])\n",
        "\n",
        "# Iterar sobre os anos em tab2 e realizar a comparação\n",
        "for year in tab2.index.get_level_values('year'):\n",
        "    # Verificar se o ano está presente em tab1\n",
        "    if year in tab1['Year'].values:\n",
        "        # Selecionar os valores correspondentes de tab1 e tab2\n",
        "        value_tab1 = tab1[tab1['Year'] == year]['Value'].values[0]\n",
        "        value_tab2 = tab2.loc[year, 'ratio_top20bottom20'].values[0] #loc - nomes linha/coluna\n",
        "\n",
        "        # Calcular a diferença percentual\n",
        "        percentual_difference = ((value_tab2 - value_tab1) / value_tab1) * 100 #tab1 como base do cálculo\n",
        "\n",
        "        # Adicionar os resultados à tabela de comparação\n",
        "        row = {'Year': year, 'Country': 'United Kingdom', 'Percentual_Difference': percentual_difference, 'ratio_top20bottom20': value_tab2}\n",
        "        compare_tabs = compare_tabs.append(row, ignore_index=True)\n",
        "\n",
        "# Ordenar o DataFrame pelo ano\n",
        "compare_tabs = compare_tabs.sort_values(by='Year')\n",
        "\n",
        "# Formatar os valores percentuais com duas casas decimais\n",
        "compare_tabs['Percentual_Difference'] = compare_tabs['Percentual_Difference'].apply(lambda x: f'{x:.2f}')\n",
        "\n",
        "# Exibir os resultados\n",
        "#print(compare_tabs)\n",
        "compare_tabs"
      ],
      "metadata": {
        "colab": {
          "base_uri": "https://localhost:8080/",
          "height": 527
        },
        "id": "NUj3LUewA7ZW",
        "outputId": "5dd090e3-cdba-4661-8688-294c1fc12c9a"
      },
      "execution_count": 32,
      "outputs": [
        {
          "output_type": "stream",
          "name": "stderr",
          "text": [
            "<ipython-input-32-b42df7526a59>:17: FutureWarning: The frame.append method is deprecated and will be removed from pandas in a future version. Use pandas.concat instead.\n",
            "  compare_tabs = compare_tabs.append(row, ignore_index=True)\n",
            "<ipython-input-32-b42df7526a59>:17: FutureWarning: The frame.append method is deprecated and will be removed from pandas in a future version. Use pandas.concat instead.\n",
            "  compare_tabs = compare_tabs.append(row, ignore_index=True)\n",
            "<ipython-input-32-b42df7526a59>:17: FutureWarning: The frame.append method is deprecated and will be removed from pandas in a future version. Use pandas.concat instead.\n",
            "  compare_tabs = compare_tabs.append(row, ignore_index=True)\n",
            "<ipython-input-32-b42df7526a59>:17: FutureWarning: The frame.append method is deprecated and will be removed from pandas in a future version. Use pandas.concat instead.\n",
            "  compare_tabs = compare_tabs.append(row, ignore_index=True)\n",
            "<ipython-input-32-b42df7526a59>:17: FutureWarning: The frame.append method is deprecated and will be removed from pandas in a future version. Use pandas.concat instead.\n",
            "  compare_tabs = compare_tabs.append(row, ignore_index=True)\n",
            "<ipython-input-32-b42df7526a59>:17: FutureWarning: The frame.append method is deprecated and will be removed from pandas in a future version. Use pandas.concat instead.\n",
            "  compare_tabs = compare_tabs.append(row, ignore_index=True)\n",
            "<ipython-input-32-b42df7526a59>:17: FutureWarning: The frame.append method is deprecated and will be removed from pandas in a future version. Use pandas.concat instead.\n",
            "  compare_tabs = compare_tabs.append(row, ignore_index=True)\n"
          ]
        },
        {
          "output_type": "execute_result",
          "data": {
            "text/plain": [
              "   Year         Country Percentual_Difference  ratio_top20bottom20\n",
              "0  2006  United Kingdom                 12.71             6.762500\n",
              "1  2007  United Kingdom                  9.86             6.811500\n",
              "2  2008  United Kingdom                 11.47             6.799500\n",
              "3  2009  United Kingdom                  8.58             6.623500\n",
              "4  2010  United Kingdom                 18.46             6.634000\n",
              "5  2011  United Kingdom                 15.94             6.492632\n",
              "6  2012  United Kingdom                  4.32             6.154737"
            ],
            "text/html": [
              "\n",
              "  <div id=\"df-2e0b1b2b-78a8-4b16-8bc1-94e222926838\" class=\"colab-df-container\">\n",
              "    <div>\n",
              "<style scoped>\n",
              "    .dataframe tbody tr th:only-of-type {\n",
              "        vertical-align: middle;\n",
              "    }\n",
              "\n",
              "    .dataframe tbody tr th {\n",
              "        vertical-align: top;\n",
              "    }\n",
              "\n",
              "    .dataframe thead th {\n",
              "        text-align: right;\n",
              "    }\n",
              "</style>\n",
              "<table border=\"1\" class=\"dataframe\">\n",
              "  <thead>\n",
              "    <tr style=\"text-align: right;\">\n",
              "      <th></th>\n",
              "      <th>Year</th>\n",
              "      <th>Country</th>\n",
              "      <th>Percentual_Difference</th>\n",
              "      <th>ratio_top20bottom20</th>\n",
              "    </tr>\n",
              "  </thead>\n",
              "  <tbody>\n",
              "    <tr>\n",
              "      <th>0</th>\n",
              "      <td>2006</td>\n",
              "      <td>United Kingdom</td>\n",
              "      <td>12.71</td>\n",
              "      <td>6.762500</td>\n",
              "    </tr>\n",
              "    <tr>\n",
              "      <th>1</th>\n",
              "      <td>2007</td>\n",
              "      <td>United Kingdom</td>\n",
              "      <td>9.86</td>\n",
              "      <td>6.811500</td>\n",
              "    </tr>\n",
              "    <tr>\n",
              "      <th>2</th>\n",
              "      <td>2008</td>\n",
              "      <td>United Kingdom</td>\n",
              "      <td>11.47</td>\n",
              "      <td>6.799500</td>\n",
              "    </tr>\n",
              "    <tr>\n",
              "      <th>3</th>\n",
              "      <td>2009</td>\n",
              "      <td>United Kingdom</td>\n",
              "      <td>8.58</td>\n",
              "      <td>6.623500</td>\n",
              "    </tr>\n",
              "    <tr>\n",
              "      <th>4</th>\n",
              "      <td>2010</td>\n",
              "      <td>United Kingdom</td>\n",
              "      <td>18.46</td>\n",
              "      <td>6.634000</td>\n",
              "    </tr>\n",
              "    <tr>\n",
              "      <th>5</th>\n",
              "      <td>2011</td>\n",
              "      <td>United Kingdom</td>\n",
              "      <td>15.94</td>\n",
              "      <td>6.492632</td>\n",
              "    </tr>\n",
              "    <tr>\n",
              "      <th>6</th>\n",
              "      <td>2012</td>\n",
              "      <td>United Kingdom</td>\n",
              "      <td>4.32</td>\n",
              "      <td>6.154737</td>\n",
              "    </tr>\n",
              "  </tbody>\n",
              "</table>\n",
              "</div>\n",
              "    <div class=\"colab-df-buttons\">\n",
              "\n",
              "  <div class=\"colab-df-container\">\n",
              "    <button class=\"colab-df-convert\" onclick=\"convertToInteractive('df-2e0b1b2b-78a8-4b16-8bc1-94e222926838')\"\n",
              "            title=\"Convert this dataframe to an interactive table.\"\n",
              "            style=\"display:none;\">\n",
              "\n",
              "  <svg xmlns=\"http://www.w3.org/2000/svg\" height=\"24px\" viewBox=\"0 -960 960 960\">\n",
              "    <path d=\"M120-120v-720h720v720H120Zm60-500h600v-160H180v160Zm220 220h160v-160H400v160Zm0 220h160v-160H400v160ZM180-400h160v-160H180v160Zm440 0h160v-160H620v160ZM180-180h160v-160H180v160Zm440 0h160v-160H620v160Z\"/>\n",
              "  </svg>\n",
              "    </button>\n",
              "\n",
              "  <style>\n",
              "    .colab-df-container {\n",
              "      display:flex;\n",
              "      gap: 12px;\n",
              "    }\n",
              "\n",
              "    .colab-df-convert {\n",
              "      background-color: #E8F0FE;\n",
              "      border: none;\n",
              "      border-radius: 50%;\n",
              "      cursor: pointer;\n",
              "      display: none;\n",
              "      fill: #1967D2;\n",
              "      height: 32px;\n",
              "      padding: 0 0 0 0;\n",
              "      width: 32px;\n",
              "    }\n",
              "\n",
              "    .colab-df-convert:hover {\n",
              "      background-color: #E2EBFA;\n",
              "      box-shadow: 0px 1px 2px rgba(60, 64, 67, 0.3), 0px 1px 3px 1px rgba(60, 64, 67, 0.15);\n",
              "      fill: #174EA6;\n",
              "    }\n",
              "\n",
              "    .colab-df-buttons div {\n",
              "      margin-bottom: 4px;\n",
              "    }\n",
              "\n",
              "    [theme=dark] .colab-df-convert {\n",
              "      background-color: #3B4455;\n",
              "      fill: #D2E3FC;\n",
              "    }\n",
              "\n",
              "    [theme=dark] .colab-df-convert:hover {\n",
              "      background-color: #434B5C;\n",
              "      box-shadow: 0px 1px 3px 1px rgba(0, 0, 0, 0.15);\n",
              "      filter: drop-shadow(0px 1px 2px rgba(0, 0, 0, 0.3));\n",
              "      fill: #FFFFFF;\n",
              "    }\n",
              "  </style>\n",
              "\n",
              "    <script>\n",
              "      const buttonEl =\n",
              "        document.querySelector('#df-2e0b1b2b-78a8-4b16-8bc1-94e222926838 button.colab-df-convert');\n",
              "      buttonEl.style.display =\n",
              "        google.colab.kernel.accessAllowed ? 'block' : 'none';\n",
              "\n",
              "      async function convertToInteractive(key) {\n",
              "        const element = document.querySelector('#df-2e0b1b2b-78a8-4b16-8bc1-94e222926838');\n",
              "        const dataTable =\n",
              "          await google.colab.kernel.invokeFunction('convertToInteractive',\n",
              "                                                    [key], {});\n",
              "        if (!dataTable) return;\n",
              "\n",
              "        const docLinkHtml = 'Like what you see? Visit the ' +\n",
              "          '<a target=\"_blank\" href=https://colab.research.google.com/notebooks/data_table.ipynb>data table notebook</a>'\n",
              "          + ' to learn more about interactive tables.';\n",
              "        element.innerHTML = '';\n",
              "        dataTable['output_type'] = 'display_data';\n",
              "        await google.colab.output.renderOutput(dataTable, element);\n",
              "        const docLink = document.createElement('div');\n",
              "        docLink.innerHTML = docLinkHtml;\n",
              "        element.appendChild(docLink);\n",
              "      }\n",
              "    </script>\n",
              "  </div>\n",
              "\n",
              "\n",
              "<div id=\"df-c2b7b292-0692-438b-9b45-f7b51602bef7\">\n",
              "  <button class=\"colab-df-quickchart\" onclick=\"quickchart('df-c2b7b292-0692-438b-9b45-f7b51602bef7')\"\n",
              "            title=\"Suggest charts.\"\n",
              "            style=\"display:none;\">\n",
              "\n",
              "<svg xmlns=\"http://www.w3.org/2000/svg\" height=\"24px\"viewBox=\"0 0 24 24\"\n",
              "     width=\"24px\">\n",
              "    <g>\n",
              "        <path d=\"M19 3H5c-1.1 0-2 .9-2 2v14c0 1.1.9 2 2 2h14c1.1 0 2-.9 2-2V5c0-1.1-.9-2-2-2zM9 17H7v-7h2v7zm4 0h-2V7h2v10zm4 0h-2v-4h2v4z\"/>\n",
              "    </g>\n",
              "</svg>\n",
              "  </button>\n",
              "\n",
              "<style>\n",
              "  .colab-df-quickchart {\n",
              "    background-color: #E8F0FE;\n",
              "    border: none;\n",
              "    border-radius: 50%;\n",
              "    cursor: pointer;\n",
              "    display: none;\n",
              "    fill: #1967D2;\n",
              "    height: 32px;\n",
              "    padding: 0 0 0 0;\n",
              "    width: 32px;\n",
              "  }\n",
              "\n",
              "  .colab-df-quickchart:hover {\n",
              "    background-color: #E2EBFA;\n",
              "    box-shadow: 0px 1px 2px rgba(60, 64, 67, 0.3), 0px 1px 3px 1px rgba(60, 64, 67, 0.15);\n",
              "    fill: #174EA6;\n",
              "  }\n",
              "\n",
              "  [theme=dark] .colab-df-quickchart {\n",
              "    background-color: #3B4455;\n",
              "    fill: #D2E3FC;\n",
              "  }\n",
              "\n",
              "  [theme=dark] .colab-df-quickchart:hover {\n",
              "    background-color: #434B5C;\n",
              "    box-shadow: 0px 1px 3px 1px rgba(0, 0, 0, 0.15);\n",
              "    filter: drop-shadow(0px 1px 2px rgba(0, 0, 0, 0.3));\n",
              "    fill: #FFFFFF;\n",
              "  }\n",
              "</style>\n",
              "\n",
              "  <script>\n",
              "    async function quickchart(key) {\n",
              "      const charts = await google.colab.kernel.invokeFunction(\n",
              "          'suggestCharts', [key], {});\n",
              "    }\n",
              "    (() => {\n",
              "      let quickchartButtonEl =\n",
              "        document.querySelector('#df-c2b7b292-0692-438b-9b45-f7b51602bef7 button');\n",
              "      quickchartButtonEl.style.display =\n",
              "        google.colab.kernel.accessAllowed ? 'block' : 'none';\n",
              "    })();\n",
              "  </script>\n",
              "</div>\n",
              "    </div>\n",
              "  </div>\n"
            ]
          },
          "metadata": {},
          "execution_count": 32
        }
      ]
    },
    {
      "cell_type": "code",
      "source": [
        "#del(compare_tabs)"
      ],
      "metadata": {
        "id": "TRlQXQO1__r3"
      },
      "execution_count": 23,
      "outputs": []
    }
  ]
}